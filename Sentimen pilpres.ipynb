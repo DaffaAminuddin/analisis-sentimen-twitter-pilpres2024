{
 "cells": [
  {
   "cell_type": "code",
   "execution_count": 4,
   "id": "f65c1686",
   "metadata": {},
   "outputs": [
    {
     "name": "stdout",
     "output_type": "stream",
     "text": [
      "Requirement already satisfied: chardet in c:\\users\\daffa\\anaconda3\\lib\\site-packages (4.0.0)\n"
     ]
    },
    {
     "name": "stderr",
     "output_type": "stream",
     "text": [
      "WARNING: Ignoring invalid distribution -pencv-python (c:\\users\\daffa\\anaconda3\\lib\\site-packages)\n",
      "WARNING: Ignoring invalid distribution -pencv-python (c:\\users\\daffa\\anaconda3\\lib\\site-packages)\n",
      "WARNING: Ignoring invalid distribution -pencv-python (c:\\users\\daffa\\anaconda3\\lib\\site-packages)\n"
     ]
    }
   ],
   "source": [
    "! pip install chardet"
   ]
  },
  {
   "cell_type": "code",
   "execution_count": 6,
   "id": "bcb2e8e0",
   "metadata": {},
   "outputs": [
    {
     "name": "stdout",
     "output_type": "stream",
     "text": [
      "{'encoding': 'Windows-1252', 'confidence': 0.7283125246084868, 'language': ''}\n"
     ]
    }
   ],
   "source": [
    "import chardet\n",
    "\n",
    "# Baca file dalam mode binary\n",
    "with open('Sentiment1.csv', 'rb') as f:\n",
    "    result = chardet.detect(f.read())\n",
    "    print(result)"
   ]
  },
  {
   "cell_type": "code",
   "execution_count": 12,
   "id": "741b0a7e",
   "metadata": {},
   "outputs": [
    {
     "name": "stdout",
     "output_type": "stream",
     "text": [
      "                             Date  \\\n",
      "0  Wed Dec 13 23:47:11 +0000 2023   \n",
      "1  Wed Dec 13 23:46:34 +0000 2023   \n",
      "2  Wed Dec 13 23:43:39 +0000 2023   \n",
      "3  Wed Dec 13 23:36:50 +0000 2023   \n",
      "4  Wed Dec 13 23:36:04 +0000 2023   \n",
      "\n",
      "                                                Text         Username  \\\n",
      "0  @Hasbil_Lbs @aniesbaswedan gampang sih bikin v...  DzulfiqorParisi   \n",
      "1  Lagi, lagi dan terus Tokoh Harapan yg dirinduk...   sumadiseloguno   \n",
      "2  Biarpun BuzzeRp dikerahkan utk trs bela junjun...     AlfathMelfas   \n",
      "3  Kagum dgn senyum pak Anies yg teteup tersunggi...      SBahriTweet   \n",
      "4  Gemoy sih tapiiii..udah TUAAAAA..????...jadi s...         samask_1   \n",
      "\n",
      "   Length_Text Sentiment                                       cleaned_text  \\\n",
      "0          254  Negative  hasbil_lbs aniesbaswedan gampang sih bikin vid...   \n",
      "1          222  Positive  lagi lagi dan terus tokoh harapan yg dirinduka...   \n",
      "2          281  Negative  biarpun buzzerp dikerahkan utk trs bela junjun...   \n",
      "3          216  Positive  kagum dgn senyum pak anies yg teteup tersunggi...   \n",
      "4          161   Neutral  gemoy sih tapiiiiudah tuaaaaajadi sering lupa ...   \n",
      "\n",
      "                                        stemmed_text  \n",
      "0  hasbil lbs aniesbaswedan gampang sih bikin vid...  \n",
      "1  lagi lagi dan terus tokoh harap yg rindu di ti...  \n",
      "2  biarpun buzzerp kerah utk trs bela junjung aga...  \n",
      "3  kagum dgn senyum pak anies yg teteup sungging ...  \n",
      "4  gemoy sih tapiiiiudah tuaaaaajadi sering lupa ...  \n"
     ]
    }
   ],
   "source": [
    "import pandas as pd\n",
    "from Sastrawi.Stemmer.StemmerFactory import StemmerFactory\n",
    "import re\n",
    "\n",
    "\n",
    "# Buat stemmer\n",
    "factory = StemmerFactory()\n",
    "stemmer = factory.create_stemmer()\n",
    "\n",
    "# Fungsi pembersihan teks\n",
    "def clean_text(text):\n",
    "    text = re.sub(r'http\\S+', '', text)  # Hapus URL\n",
    "    text = re.sub(r'[^\\w\\s]', '', text)  # Hapus tanda baca\n",
    "    text = re.sub(r'\\d+', '', text)      # Hapus angka\n",
    "    return text.lower().strip()\n",
    "\n",
    "# Stemming teks\n",
    "def stem_text(Text):\n",
    "    return stemmer.stem(Text)\n",
    "\n",
    "# Ubah 'ISO-8859-1' sesuai dengan hasil dari chardet\n",
    "data = pd.read_csv('Sentiment1.csv', encoding='Windows-1252')\n",
    "\n",
    "data['cleaned_text'] = data['Text'].apply(clean_text)\n",
    "data['stemmed_text'] = data['cleaned_text'].apply(stem_text)\n",
    "print(data.head())"
   ]
  },
  {
   "cell_type": "code",
   "execution_count": 36,
   "id": "9a7e2414",
   "metadata": {},
   "outputs": [],
   "source": [
    "# hanya mengambil 200 baris data pada dataset\n",
    "df = data.sample(n=500, random_state=42)"
   ]
  },
  {
   "cell_type": "code",
   "execution_count": 37,
   "id": "4534e613",
   "metadata": {},
   "outputs": [
    {
     "data": {
      "text/plain": [
       "(500, 7)"
      ]
     },
     "execution_count": 37,
     "metadata": {},
     "output_type": "execute_result"
    }
   ],
   "source": [
    "df.shape"
   ]
  },
  {
   "cell_type": "code",
   "execution_count": 39,
   "id": "cc4a32d2",
   "metadata": {},
   "outputs": [],
   "source": [
    "# hapus emoji\n",
    "def emojis(Text):\n",
    "    emoji = re.compile(\"[\"u\"\\U0001F600-\\U0001F64F\"  # emoticons\n",
    "                           u\"\\U0001F300-\\U0001F5FF\"  # symbols & pictographs\n",
    "                           u\"\\U0001F680-\\U0001F6FF\"  # transport & map symbols\n",
    "                           u\"\\U0001F1E0-\\U0001F1FF\"  # flags (iOS)\n",
    "                           u\"\\U00002702-\\U000027B0\"\n",
    "                           u\"\\U000024C2-\\U0001F251\"\n",
    "                           \"]+\", flags=re.UNICODE)\n",
    "    return emoji.sub(r'', Text)\n",
    "\n",
    "df['Text']=df['Text'].apply(lambda x: emojis(x))"
   ]
  },
  {
   "cell_type": "code",
   "execution_count": 40,
   "id": "e01f886c",
   "metadata": {},
   "outputs": [
    {
     "data": {
      "text/plain": [
       "898     @IwanIwanely72 Biar aja digoreng ampe gosong #...\n",
       "1062    @Naz_lira tapi isi artikelnya gak ada yg menga...\n",
       "1254    @Naz_lira ??Alhamdulillah?? Perlahan tapi past...\n",
       "298     para orang-orang yang nggak paham..mana mau be...\n",
       "237     @KaumTabu @aniesbaswedan GASPOOOL REMBLOOONG.....\n",
       "                              ...                        \n",
       "1218    Setuju?   #AMINAjaDulu  #AniesMuhaimin2024 htt...\n",
       "700     Cak Imin, kayaknya dia suka main monopoly poli...\n",
       "339     Jangan jadi penonton jadilah bagian dari Gerak...\n",
       "910     @AdamVelcro Wakanda no more Indonesia forever ...\n",
       "839     Prabowo klarifikasi lagi, Cak Imin kok bisa ja...\n",
       "Name: Text, Length: 100, dtype: object"
      ]
     },
     "execution_count": 40,
     "metadata": {},
     "output_type": "execute_result"
    }
   ],
   "source": [
    "df['Text'].head(100)"
   ]
  },
  {
   "cell_type": "markdown",
   "id": "e5adfba7",
   "metadata": {},
   "source": [
    "# Analisis Sentimen dengan TextBlob"
   ]
  },
  {
   "cell_type": "code",
   "execution_count": 43,
   "id": "68a1d2e6",
   "metadata": {},
   "outputs": [],
   "source": [
    "from textblob import TextBlob\n",
    "\n",
    "# Gunakan TextBlob untuk analisis sentimen\n",
    "def get_sentiment(Text):\n",
    "    analysis = TextBlob(Text)\n",
    "    polarity = analysis.sentiment.polarity  # Skor sentimen\n",
    "    return 'positif' if polarity > 0 else 'negatif' if polarity < 0 else 'netral'\n",
    "\n",
    "df['Predicted_Sentimen'] = df['stemmed_text'].apply(get_sentiment)"
   ]
  },
  {
   "cell_type": "markdown",
   "id": "d157b26f",
   "metadata": {},
   "source": [
    "# Visualisasi Hasil dengan Plotly"
   ]
  },
  {
   "cell_type": "code",
   "execution_count": 44,
   "id": "be2a1e7c",
   "metadata": {
    "scrolled": true
   },
   "outputs": [
    {
     "data": {
      "application/vnd.plotly.v1+json": {
       "config": {
        "plotlyServerURL": "https://plot.ly"
       },
       "data": [
        {
         "alignmentgroup": "True",
         "bingroup": "x",
         "hovertemplate": "Sentimen=%{x}<br>count=%{y}<extra></extra>",
         "legendgroup": "netral",
         "marker": {
          "color": "#636efa",
          "pattern": {
           "shape": ""
          }
         },
         "name": "netral",
         "offsetgroup": "netral",
         "orientation": "v",
         "showlegend": true,
         "texttemplate": "%{value}",
         "type": "histogram",
         "x": [
          "netral",
          "netral",
          "netral",
          "netral",
          "netral",
          "netral",
          "netral",
          "netral",
          "netral",
          "netral",
          "netral",
          "netral",
          "netral",
          "netral",
          "netral",
          "netral",
          "netral",
          "netral",
          "netral",
          "netral",
          "netral",
          "netral",
          "netral",
          "netral",
          "netral",
          "netral",
          "netral",
          "netral",
          "netral",
          "netral",
          "netral",
          "netral",
          "netral",
          "netral",
          "netral",
          "netral",
          "netral",
          "netral",
          "netral",
          "netral",
          "netral",
          "netral",
          "netral",
          "netral",
          "netral",
          "netral",
          "netral",
          "netral",
          "netral",
          "netral",
          "netral",
          "netral",
          "netral",
          "netral",
          "netral",
          "netral",
          "netral",
          "netral",
          "netral",
          "netral",
          "netral",
          "netral",
          "netral",
          "netral",
          "netral",
          "netral",
          "netral",
          "netral",
          "netral",
          "netral",
          "netral",
          "netral",
          "netral",
          "netral",
          "netral",
          "netral",
          "netral",
          "netral",
          "netral",
          "netral",
          "netral",
          "netral",
          "netral",
          "netral",
          "netral",
          "netral",
          "netral",
          "netral",
          "netral",
          "netral",
          "netral",
          "netral",
          "netral",
          "netral",
          "netral",
          "netral",
          "netral",
          "netral",
          "netral",
          "netral",
          "netral",
          "netral",
          "netral",
          "netral",
          "netral",
          "netral",
          "netral",
          "netral",
          "netral",
          "netral",
          "netral",
          "netral",
          "netral",
          "netral",
          "netral",
          "netral",
          "netral",
          "netral",
          "netral",
          "netral",
          "netral",
          "netral",
          "netral",
          "netral",
          "netral",
          "netral",
          "netral",
          "netral",
          "netral",
          "netral",
          "netral",
          "netral",
          "netral",
          "netral",
          "netral",
          "netral",
          "netral",
          "netral",
          "netral",
          "netral",
          "netral",
          "netral",
          "netral",
          "netral",
          "netral",
          "netral",
          "netral",
          "netral",
          "netral",
          "netral",
          "netral",
          "netral",
          "netral",
          "netral",
          "netral",
          "netral",
          "netral",
          "netral",
          "netral",
          "netral",
          "netral",
          "netral",
          "netral",
          "netral",
          "netral",
          "netral",
          "netral",
          "netral",
          "netral",
          "netral",
          "netral",
          "netral",
          "netral",
          "netral",
          "netral",
          "netral",
          "netral",
          "netral",
          "netral",
          "netral",
          "netral",
          "netral",
          "netral",
          "netral",
          "netral",
          "netral",
          "netral",
          "netral",
          "netral",
          "netral",
          "netral",
          "netral",
          "netral",
          "netral",
          "netral",
          "netral",
          "netral",
          "netral",
          "netral",
          "netral",
          "netral",
          "netral",
          "netral",
          "netral",
          "netral",
          "netral",
          "netral",
          "netral",
          "netral",
          "netral",
          "netral",
          "netral",
          "netral",
          "netral",
          "netral",
          "netral",
          "netral",
          "netral",
          "netral",
          "netral",
          "netral",
          "netral",
          "netral",
          "netral",
          "netral",
          "netral",
          "netral",
          "netral",
          "netral",
          "netral",
          "netral",
          "netral",
          "netral",
          "netral",
          "netral",
          "netral",
          "netral",
          "netral",
          "netral",
          "netral",
          "netral",
          "netral",
          "netral",
          "netral",
          "netral",
          "netral",
          "netral",
          "netral",
          "netral",
          "netral",
          "netral",
          "netral",
          "netral",
          "netral",
          "netral",
          "netral",
          "netral",
          "netral",
          "netral",
          "netral",
          "netral",
          "netral",
          "netral",
          "netral",
          "netral",
          "netral",
          "netral",
          "netral",
          "netral",
          "netral",
          "netral",
          "netral",
          "netral",
          "netral",
          "netral",
          "netral",
          "netral",
          "netral",
          "netral",
          "netral",
          "netral",
          "netral",
          "netral",
          "netral",
          "netral",
          "netral",
          "netral",
          "netral",
          "netral",
          "netral",
          "netral",
          "netral",
          "netral",
          "netral",
          "netral",
          "netral",
          "netral",
          "netral",
          "netral",
          "netral",
          "netral",
          "netral",
          "netral",
          "netral",
          "netral",
          "netral",
          "netral",
          "netral",
          "netral",
          "netral",
          "netral",
          "netral",
          "netral",
          "netral",
          "netral",
          "netral",
          "netral",
          "netral",
          "netral",
          "netral",
          "netral",
          "netral",
          "netral",
          "netral",
          "netral",
          "netral",
          "netral",
          "netral",
          "netral",
          "netral",
          "netral",
          "netral",
          "netral",
          "netral",
          "netral",
          "netral",
          "netral",
          "netral",
          "netral",
          "netral",
          "netral",
          "netral",
          "netral",
          "netral",
          "netral",
          "netral",
          "netral",
          "netral",
          "netral",
          "netral",
          "netral",
          "netral",
          "netral",
          "netral",
          "netral",
          "netral",
          "netral",
          "netral",
          "netral",
          "netral",
          "netral",
          "netral",
          "netral",
          "netral",
          "netral",
          "netral",
          "netral",
          "netral",
          "netral",
          "netral",
          "netral",
          "netral",
          "netral",
          "netral",
          "netral",
          "netral",
          "netral",
          "netral",
          "netral",
          "netral",
          "netral",
          "netral",
          "netral",
          "netral",
          "netral",
          "netral",
          "netral",
          "netral",
          "netral",
          "netral",
          "netral",
          "netral",
          "netral",
          "netral",
          "netral",
          "netral",
          "netral",
          "netral",
          "netral",
          "netral",
          "netral",
          "netral",
          "netral",
          "netral",
          "netral",
          "netral",
          "netral",
          "netral",
          "netral",
          "netral",
          "netral",
          "netral",
          "netral",
          "netral",
          "netral",
          "netral",
          "netral",
          "netral",
          "netral",
          "netral",
          "netral",
          "netral",
          "netral",
          "netral",
          "netral",
          "netral",
          "netral",
          "netral",
          "netral",
          "netral",
          "netral",
          "netral",
          "netral",
          "netral",
          "netral",
          "netral",
          "netral",
          "netral",
          "netral",
          "netral",
          "netral",
          "netral",
          "netral",
          "netral",
          "netral",
          "netral",
          "netral",
          "netral",
          "netral",
          "netral",
          "netral",
          "netral",
          "netral",
          "netral",
          "netral",
          "netral",
          "netral",
          "netral",
          "netral",
          "netral",
          "netral",
          "netral",
          "netral",
          "netral",
          "netral",
          "netral",
          "netral",
          "netral"
         ],
         "xaxis": "x",
         "yaxis": "y"
        },
        {
         "alignmentgroup": "True",
         "bingroup": "x",
         "hovertemplate": "Sentimen=%{x}<br>count=%{y}<extra></extra>",
         "legendgroup": "negatif",
         "marker": {
          "color": "#EF553B",
          "pattern": {
           "shape": ""
          }
         },
         "name": "negatif",
         "offsetgroup": "negatif",
         "orientation": "v",
         "showlegend": true,
         "texttemplate": "%{value}",
         "type": "histogram",
         "x": [
          "negatif",
          "negatif",
          "negatif",
          "negatif",
          "negatif",
          "negatif",
          "negatif",
          "negatif",
          "negatif",
          "negatif",
          "negatif",
          "negatif",
          "negatif",
          "negatif",
          "negatif",
          "negatif",
          "negatif",
          "negatif",
          "negatif"
         ],
         "xaxis": "x",
         "yaxis": "y"
        },
        {
         "alignmentgroup": "True",
         "bingroup": "x",
         "hovertemplate": "Sentimen=%{x}<br>count=%{y}<extra></extra>",
         "legendgroup": "positif",
         "marker": {
          "color": "#00cc96",
          "pattern": {
           "shape": ""
          }
         },
         "name": "positif",
         "offsetgroup": "positif",
         "orientation": "v",
         "showlegend": true,
         "texttemplate": "%{value}",
         "type": "histogram",
         "x": [
          "positif",
          "positif",
          "positif",
          "positif",
          "positif",
          "positif",
          "positif",
          "positif",
          "positif",
          "positif",
          "positif",
          "positif",
          "positif"
         ],
         "xaxis": "x",
         "yaxis": "y"
        }
       ],
       "layout": {
        "barmode": "relative",
        "legend": {
         "title": {
          "text": "Sentimen"
         },
         "tracegroupgap": 0
        },
        "template": {
         "data": {
          "bar": [
           {
            "error_x": {
             "color": "#2a3f5f"
            },
            "error_y": {
             "color": "#2a3f5f"
            },
            "marker": {
             "line": {
              "color": "#E5ECF6",
              "width": 0.5
             },
             "pattern": {
              "fillmode": "overlay",
              "size": 10,
              "solidity": 0.2
             }
            },
            "type": "bar"
           }
          ],
          "barpolar": [
           {
            "marker": {
             "line": {
              "color": "#E5ECF6",
              "width": 0.5
             },
             "pattern": {
              "fillmode": "overlay",
              "size": 10,
              "solidity": 0.2
             }
            },
            "type": "barpolar"
           }
          ],
          "carpet": [
           {
            "aaxis": {
             "endlinecolor": "#2a3f5f",
             "gridcolor": "white",
             "linecolor": "white",
             "minorgridcolor": "white",
             "startlinecolor": "#2a3f5f"
            },
            "baxis": {
             "endlinecolor": "#2a3f5f",
             "gridcolor": "white",
             "linecolor": "white",
             "minorgridcolor": "white",
             "startlinecolor": "#2a3f5f"
            },
            "type": "carpet"
           }
          ],
          "choropleth": [
           {
            "colorbar": {
             "outlinewidth": 0,
             "ticks": ""
            },
            "type": "choropleth"
           }
          ],
          "contour": [
           {
            "colorbar": {
             "outlinewidth": 0,
             "ticks": ""
            },
            "colorscale": [
             [
              0,
              "#0d0887"
             ],
             [
              0.1111111111111111,
              "#46039f"
             ],
             [
              0.2222222222222222,
              "#7201a8"
             ],
             [
              0.3333333333333333,
              "#9c179e"
             ],
             [
              0.4444444444444444,
              "#bd3786"
             ],
             [
              0.5555555555555556,
              "#d8576b"
             ],
             [
              0.6666666666666666,
              "#ed7953"
             ],
             [
              0.7777777777777778,
              "#fb9f3a"
             ],
             [
              0.8888888888888888,
              "#fdca26"
             ],
             [
              1,
              "#f0f921"
             ]
            ],
            "type": "contour"
           }
          ],
          "contourcarpet": [
           {
            "colorbar": {
             "outlinewidth": 0,
             "ticks": ""
            },
            "type": "contourcarpet"
           }
          ],
          "heatmap": [
           {
            "colorbar": {
             "outlinewidth": 0,
             "ticks": ""
            },
            "colorscale": [
             [
              0,
              "#0d0887"
             ],
             [
              0.1111111111111111,
              "#46039f"
             ],
             [
              0.2222222222222222,
              "#7201a8"
             ],
             [
              0.3333333333333333,
              "#9c179e"
             ],
             [
              0.4444444444444444,
              "#bd3786"
             ],
             [
              0.5555555555555556,
              "#d8576b"
             ],
             [
              0.6666666666666666,
              "#ed7953"
             ],
             [
              0.7777777777777778,
              "#fb9f3a"
             ],
             [
              0.8888888888888888,
              "#fdca26"
             ],
             [
              1,
              "#f0f921"
             ]
            ],
            "type": "heatmap"
           }
          ],
          "heatmapgl": [
           {
            "colorbar": {
             "outlinewidth": 0,
             "ticks": ""
            },
            "colorscale": [
             [
              0,
              "#0d0887"
             ],
             [
              0.1111111111111111,
              "#46039f"
             ],
             [
              0.2222222222222222,
              "#7201a8"
             ],
             [
              0.3333333333333333,
              "#9c179e"
             ],
             [
              0.4444444444444444,
              "#bd3786"
             ],
             [
              0.5555555555555556,
              "#d8576b"
             ],
             [
              0.6666666666666666,
              "#ed7953"
             ],
             [
              0.7777777777777778,
              "#fb9f3a"
             ],
             [
              0.8888888888888888,
              "#fdca26"
             ],
             [
              1,
              "#f0f921"
             ]
            ],
            "type": "heatmapgl"
           }
          ],
          "histogram": [
           {
            "marker": {
             "pattern": {
              "fillmode": "overlay",
              "size": 10,
              "solidity": 0.2
             }
            },
            "type": "histogram"
           }
          ],
          "histogram2d": [
           {
            "colorbar": {
             "outlinewidth": 0,
             "ticks": ""
            },
            "colorscale": [
             [
              0,
              "#0d0887"
             ],
             [
              0.1111111111111111,
              "#46039f"
             ],
             [
              0.2222222222222222,
              "#7201a8"
             ],
             [
              0.3333333333333333,
              "#9c179e"
             ],
             [
              0.4444444444444444,
              "#bd3786"
             ],
             [
              0.5555555555555556,
              "#d8576b"
             ],
             [
              0.6666666666666666,
              "#ed7953"
             ],
             [
              0.7777777777777778,
              "#fb9f3a"
             ],
             [
              0.8888888888888888,
              "#fdca26"
             ],
             [
              1,
              "#f0f921"
             ]
            ],
            "type": "histogram2d"
           }
          ],
          "histogram2dcontour": [
           {
            "colorbar": {
             "outlinewidth": 0,
             "ticks": ""
            },
            "colorscale": [
             [
              0,
              "#0d0887"
             ],
             [
              0.1111111111111111,
              "#46039f"
             ],
             [
              0.2222222222222222,
              "#7201a8"
             ],
             [
              0.3333333333333333,
              "#9c179e"
             ],
             [
              0.4444444444444444,
              "#bd3786"
             ],
             [
              0.5555555555555556,
              "#d8576b"
             ],
             [
              0.6666666666666666,
              "#ed7953"
             ],
             [
              0.7777777777777778,
              "#fb9f3a"
             ],
             [
              0.8888888888888888,
              "#fdca26"
             ],
             [
              1,
              "#f0f921"
             ]
            ],
            "type": "histogram2dcontour"
           }
          ],
          "mesh3d": [
           {
            "colorbar": {
             "outlinewidth": 0,
             "ticks": ""
            },
            "type": "mesh3d"
           }
          ],
          "parcoords": [
           {
            "line": {
             "colorbar": {
              "outlinewidth": 0,
              "ticks": ""
             }
            },
            "type": "parcoords"
           }
          ],
          "pie": [
           {
            "automargin": true,
            "type": "pie"
           }
          ],
          "scatter": [
           {
            "marker": {
             "colorbar": {
              "outlinewidth": 0,
              "ticks": ""
             }
            },
            "type": "scatter"
           }
          ],
          "scatter3d": [
           {
            "line": {
             "colorbar": {
              "outlinewidth": 0,
              "ticks": ""
             }
            },
            "marker": {
             "colorbar": {
              "outlinewidth": 0,
              "ticks": ""
             }
            },
            "type": "scatter3d"
           }
          ],
          "scattercarpet": [
           {
            "marker": {
             "colorbar": {
              "outlinewidth": 0,
              "ticks": ""
             }
            },
            "type": "scattercarpet"
           }
          ],
          "scattergeo": [
           {
            "marker": {
             "colorbar": {
              "outlinewidth": 0,
              "ticks": ""
             }
            },
            "type": "scattergeo"
           }
          ],
          "scattergl": [
           {
            "marker": {
             "colorbar": {
              "outlinewidth": 0,
              "ticks": ""
             }
            },
            "type": "scattergl"
           }
          ],
          "scattermapbox": [
           {
            "marker": {
             "colorbar": {
              "outlinewidth": 0,
              "ticks": ""
             }
            },
            "type": "scattermapbox"
           }
          ],
          "scatterpolar": [
           {
            "marker": {
             "colorbar": {
              "outlinewidth": 0,
              "ticks": ""
             }
            },
            "type": "scatterpolar"
           }
          ],
          "scatterpolargl": [
           {
            "marker": {
             "colorbar": {
              "outlinewidth": 0,
              "ticks": ""
             }
            },
            "type": "scatterpolargl"
           }
          ],
          "scatterternary": [
           {
            "marker": {
             "colorbar": {
              "outlinewidth": 0,
              "ticks": ""
             }
            },
            "type": "scatterternary"
           }
          ],
          "surface": [
           {
            "colorbar": {
             "outlinewidth": 0,
             "ticks": ""
            },
            "colorscale": [
             [
              0,
              "#0d0887"
             ],
             [
              0.1111111111111111,
              "#46039f"
             ],
             [
              0.2222222222222222,
              "#7201a8"
             ],
             [
              0.3333333333333333,
              "#9c179e"
             ],
             [
              0.4444444444444444,
              "#bd3786"
             ],
             [
              0.5555555555555556,
              "#d8576b"
             ],
             [
              0.6666666666666666,
              "#ed7953"
             ],
             [
              0.7777777777777778,
              "#fb9f3a"
             ],
             [
              0.8888888888888888,
              "#fdca26"
             ],
             [
              1,
              "#f0f921"
             ]
            ],
            "type": "surface"
           }
          ],
          "table": [
           {
            "cells": {
             "fill": {
              "color": "#EBF0F8"
             },
             "line": {
              "color": "white"
             }
            },
            "header": {
             "fill": {
              "color": "#C8D4E3"
             },
             "line": {
              "color": "white"
             }
            },
            "type": "table"
           }
          ]
         },
         "layout": {
          "annotationdefaults": {
           "arrowcolor": "#2a3f5f",
           "arrowhead": 0,
           "arrowwidth": 1
          },
          "autotypenumbers": "strict",
          "coloraxis": {
           "colorbar": {
            "outlinewidth": 0,
            "ticks": ""
           }
          },
          "colorscale": {
           "diverging": [
            [
             0,
             "#8e0152"
            ],
            [
             0.1,
             "#c51b7d"
            ],
            [
             0.2,
             "#de77ae"
            ],
            [
             0.3,
             "#f1b6da"
            ],
            [
             0.4,
             "#fde0ef"
            ],
            [
             0.5,
             "#f7f7f7"
            ],
            [
             0.6,
             "#e6f5d0"
            ],
            [
             0.7,
             "#b8e186"
            ],
            [
             0.8,
             "#7fbc41"
            ],
            [
             0.9,
             "#4d9221"
            ],
            [
             1,
             "#276419"
            ]
           ],
           "sequential": [
            [
             0,
             "#0d0887"
            ],
            [
             0.1111111111111111,
             "#46039f"
            ],
            [
             0.2222222222222222,
             "#7201a8"
            ],
            [
             0.3333333333333333,
             "#9c179e"
            ],
            [
             0.4444444444444444,
             "#bd3786"
            ],
            [
             0.5555555555555556,
             "#d8576b"
            ],
            [
             0.6666666666666666,
             "#ed7953"
            ],
            [
             0.7777777777777778,
             "#fb9f3a"
            ],
            [
             0.8888888888888888,
             "#fdca26"
            ],
            [
             1,
             "#f0f921"
            ]
           ],
           "sequentialminus": [
            [
             0,
             "#0d0887"
            ],
            [
             0.1111111111111111,
             "#46039f"
            ],
            [
             0.2222222222222222,
             "#7201a8"
            ],
            [
             0.3333333333333333,
             "#9c179e"
            ],
            [
             0.4444444444444444,
             "#bd3786"
            ],
            [
             0.5555555555555556,
             "#d8576b"
            ],
            [
             0.6666666666666666,
             "#ed7953"
            ],
            [
             0.7777777777777778,
             "#fb9f3a"
            ],
            [
             0.8888888888888888,
             "#fdca26"
            ],
            [
             1,
             "#f0f921"
            ]
           ]
          },
          "colorway": [
           "#636efa",
           "#EF553B",
           "#00cc96",
           "#ab63fa",
           "#FFA15A",
           "#19d3f3",
           "#FF6692",
           "#B6E880",
           "#FF97FF",
           "#FECB52"
          ],
          "font": {
           "color": "#2a3f5f"
          },
          "geo": {
           "bgcolor": "white",
           "lakecolor": "white",
           "landcolor": "#E5ECF6",
           "showlakes": true,
           "showland": true,
           "subunitcolor": "white"
          },
          "hoverlabel": {
           "align": "left"
          },
          "hovermode": "closest",
          "mapbox": {
           "style": "light"
          },
          "paper_bgcolor": "white",
          "plot_bgcolor": "#E5ECF6",
          "polar": {
           "angularaxis": {
            "gridcolor": "white",
            "linecolor": "white",
            "ticks": ""
           },
           "bgcolor": "#E5ECF6",
           "radialaxis": {
            "gridcolor": "white",
            "linecolor": "white",
            "ticks": ""
           }
          },
          "scene": {
           "xaxis": {
            "backgroundcolor": "#E5ECF6",
            "gridcolor": "white",
            "gridwidth": 2,
            "linecolor": "white",
            "showbackground": true,
            "ticks": "",
            "zerolinecolor": "white"
           },
           "yaxis": {
            "backgroundcolor": "#E5ECF6",
            "gridcolor": "white",
            "gridwidth": 2,
            "linecolor": "white",
            "showbackground": true,
            "ticks": "",
            "zerolinecolor": "white"
           },
           "zaxis": {
            "backgroundcolor": "#E5ECF6",
            "gridcolor": "white",
            "gridwidth": 2,
            "linecolor": "white",
            "showbackground": true,
            "ticks": "",
            "zerolinecolor": "white"
           }
          },
          "shapedefaults": {
           "line": {
            "color": "#2a3f5f"
           }
          },
          "ternary": {
           "aaxis": {
            "gridcolor": "white",
            "linecolor": "white",
            "ticks": ""
           },
           "baxis": {
            "gridcolor": "white",
            "linecolor": "white",
            "ticks": ""
           },
           "bgcolor": "#E5ECF6",
           "caxis": {
            "gridcolor": "white",
            "linecolor": "white",
            "ticks": ""
           }
          },
          "title": {
           "x": 0.05
          },
          "xaxis": {
           "automargin": true,
           "gridcolor": "white",
           "linecolor": "white",
           "ticks": "",
           "title": {
            "standoff": 15
           },
           "zerolinecolor": "white",
           "zerolinewidth": 2
          },
          "yaxis": {
           "automargin": true,
           "gridcolor": "white",
           "linecolor": "white",
           "ticks": "",
           "title": {
            "standoff": 15
           },
           "zerolinecolor": "white",
           "zerolinewidth": 2
          }
         }
        },
        "title": {
         "text": "Distribusi Sentimen Publik terhadap Pilpres"
        },
        "xaxis": {
         "anchor": "y",
         "categoryarray": [
          "netral",
          "negatif",
          "positif"
         ],
         "categoryorder": "array",
         "domain": [
          0,
          1
         ],
         "title": {
          "text": "Sentimen"
         }
        },
        "yaxis": {
         "anchor": "x",
         "domain": [
          0,
          1
         ],
         "title": {
          "text": "count"
         }
        }
       }
      },
      "text/html": [
       "<div>                            <div id=\"cea0219f-2475-45ad-a9ac-caf947727cdc\" class=\"plotly-graph-div\" style=\"height:525px; width:100%;\"></div>            <script type=\"text/javascript\">                require([\"plotly\"], function(Plotly) {                    window.PLOTLYENV=window.PLOTLYENV || {};                                    if (document.getElementById(\"cea0219f-2475-45ad-a9ac-caf947727cdc\")) {                    Plotly.newPlot(                        \"cea0219f-2475-45ad-a9ac-caf947727cdc\",                        [{\"alignmentgroup\":\"True\",\"bingroup\":\"x\",\"hovertemplate\":\"Sentimen=%{x}<br>count=%{y}<extra></extra>\",\"legendgroup\":\"netral\",\"marker\":{\"color\":\"#636efa\",\"pattern\":{\"shape\":\"\"}},\"name\":\"netral\",\"offsetgroup\":\"netral\",\"orientation\":\"v\",\"showlegend\":true,\"texttemplate\":\"%{value}\",\"x\":[\"netral\",\"netral\",\"netral\",\"netral\",\"netral\",\"netral\",\"netral\",\"netral\",\"netral\",\"netral\",\"netral\",\"netral\",\"netral\",\"netral\",\"netral\",\"netral\",\"netral\",\"netral\",\"netral\",\"netral\",\"netral\",\"netral\",\"netral\",\"netral\",\"netral\",\"netral\",\"netral\",\"netral\",\"netral\",\"netral\",\"netral\",\"netral\",\"netral\",\"netral\",\"netral\",\"netral\",\"netral\",\"netral\",\"netral\",\"netral\",\"netral\",\"netral\",\"netral\",\"netral\",\"netral\",\"netral\",\"netral\",\"netral\",\"netral\",\"netral\",\"netral\",\"netral\",\"netral\",\"netral\",\"netral\",\"netral\",\"netral\",\"netral\",\"netral\",\"netral\",\"netral\",\"netral\",\"netral\",\"netral\",\"netral\",\"netral\",\"netral\",\"netral\",\"netral\",\"netral\",\"netral\",\"netral\",\"netral\",\"netral\",\"netral\",\"netral\",\"netral\",\"netral\",\"netral\",\"netral\",\"netral\",\"netral\",\"netral\",\"netral\",\"netral\",\"netral\",\"netral\",\"netral\",\"netral\",\"netral\",\"netral\",\"netral\",\"netral\",\"netral\",\"netral\",\"netral\",\"netral\",\"netral\",\"netral\",\"netral\",\"netral\",\"netral\",\"netral\",\"netral\",\"netral\",\"netral\",\"netral\",\"netral\",\"netral\",\"netral\",\"netral\",\"netral\",\"netral\",\"netral\",\"netral\",\"netral\",\"netral\",\"netral\",\"netral\",\"netral\",\"netral\",\"netral\",\"netral\",\"netral\",\"netral\",\"netral\",\"netral\",\"netral\",\"netral\",\"netral\",\"netral\",\"netral\",\"netral\",\"netral\",\"netral\",\"netral\",\"netral\",\"netral\",\"netral\",\"netral\",\"netral\",\"netral\",\"netral\",\"netral\",\"netral\",\"netral\",\"netral\",\"netral\",\"netral\",\"netral\",\"netral\",\"netral\",\"netral\",\"netral\",\"netral\",\"netral\",\"netral\",\"netral\",\"netral\",\"netral\",\"netral\",\"netral\",\"netral\",\"netral\",\"netral\",\"netral\",\"netral\",\"netral\",\"netral\",\"netral\",\"netral\",\"netral\",\"netral\",\"netral\",\"netral\",\"netral\",\"netral\",\"netral\",\"netral\",\"netral\",\"netral\",\"netral\",\"netral\",\"netral\",\"netral\",\"netral\",\"netral\",\"netral\",\"netral\",\"netral\",\"netral\",\"netral\",\"netral\",\"netral\",\"netral\",\"netral\",\"netral\",\"netral\",\"netral\",\"netral\",\"netral\",\"netral\",\"netral\",\"netral\",\"netral\",\"netral\",\"netral\",\"netral\",\"netral\",\"netral\",\"netral\",\"netral\",\"netral\",\"netral\",\"netral\",\"netral\",\"netral\",\"netral\",\"netral\",\"netral\",\"netral\",\"netral\",\"netral\",\"netral\",\"netral\",\"netral\",\"netral\",\"netral\",\"netral\",\"netral\",\"netral\",\"netral\",\"netral\",\"netral\",\"netral\",\"netral\",\"netral\",\"netral\",\"netral\",\"netral\",\"netral\",\"netral\",\"netral\",\"netral\",\"netral\",\"netral\",\"netral\",\"netral\",\"netral\",\"netral\",\"netral\",\"netral\",\"netral\",\"netral\",\"netral\",\"netral\",\"netral\",\"netral\",\"netral\",\"netral\",\"netral\",\"netral\",\"netral\",\"netral\",\"netral\",\"netral\",\"netral\",\"netral\",\"netral\",\"netral\",\"netral\",\"netral\",\"netral\",\"netral\",\"netral\",\"netral\",\"netral\",\"netral\",\"netral\",\"netral\",\"netral\",\"netral\",\"netral\",\"netral\",\"netral\",\"netral\",\"netral\",\"netral\",\"netral\",\"netral\",\"netral\",\"netral\",\"netral\",\"netral\",\"netral\",\"netral\",\"netral\",\"netral\",\"netral\",\"netral\",\"netral\",\"netral\",\"netral\",\"netral\",\"netral\",\"netral\",\"netral\",\"netral\",\"netral\",\"netral\",\"netral\",\"netral\",\"netral\",\"netral\",\"netral\",\"netral\",\"netral\",\"netral\",\"netral\",\"netral\",\"netral\",\"netral\",\"netral\",\"netral\",\"netral\",\"netral\",\"netral\",\"netral\",\"netral\",\"netral\",\"netral\",\"netral\",\"netral\",\"netral\",\"netral\",\"netral\",\"netral\",\"netral\",\"netral\",\"netral\",\"netral\",\"netral\",\"netral\",\"netral\",\"netral\",\"netral\",\"netral\",\"netral\",\"netral\",\"netral\",\"netral\",\"netral\",\"netral\",\"netral\",\"netral\",\"netral\",\"netral\",\"netral\",\"netral\",\"netral\",\"netral\",\"netral\",\"netral\",\"netral\",\"netral\",\"netral\",\"netral\",\"netral\",\"netral\",\"netral\",\"netral\",\"netral\",\"netral\",\"netral\",\"netral\",\"netral\",\"netral\",\"netral\",\"netral\",\"netral\",\"netral\",\"netral\",\"netral\",\"netral\",\"netral\",\"netral\",\"netral\",\"netral\",\"netral\",\"netral\",\"netral\",\"netral\",\"netral\",\"netral\",\"netral\",\"netral\",\"netral\",\"netral\",\"netral\",\"netral\",\"netral\",\"netral\",\"netral\",\"netral\",\"netral\",\"netral\",\"netral\",\"netral\",\"netral\",\"netral\",\"netral\",\"netral\",\"netral\",\"netral\",\"netral\",\"netral\",\"netral\",\"netral\",\"netral\",\"netral\",\"netral\",\"netral\",\"netral\",\"netral\",\"netral\",\"netral\",\"netral\",\"netral\",\"netral\",\"netral\",\"netral\",\"netral\",\"netral\",\"netral\",\"netral\",\"netral\",\"netral\",\"netral\",\"netral\",\"netral\",\"netral\",\"netral\",\"netral\",\"netral\",\"netral\",\"netral\",\"netral\",\"netral\",\"netral\",\"netral\",\"netral\",\"netral\",\"netral\",\"netral\",\"netral\",\"netral\",\"netral\",\"netral\",\"netral\",\"netral\",\"netral\",\"netral\",\"netral\",\"netral\",\"netral\",\"netral\",\"netral\",\"netral\"],\"xaxis\":\"x\",\"yaxis\":\"y\",\"type\":\"histogram\"},{\"alignmentgroup\":\"True\",\"bingroup\":\"x\",\"hovertemplate\":\"Sentimen=%{x}<br>count=%{y}<extra></extra>\",\"legendgroup\":\"negatif\",\"marker\":{\"color\":\"#EF553B\",\"pattern\":{\"shape\":\"\"}},\"name\":\"negatif\",\"offsetgroup\":\"negatif\",\"orientation\":\"v\",\"showlegend\":true,\"texttemplate\":\"%{value}\",\"x\":[\"negatif\",\"negatif\",\"negatif\",\"negatif\",\"negatif\",\"negatif\",\"negatif\",\"negatif\",\"negatif\",\"negatif\",\"negatif\",\"negatif\",\"negatif\",\"negatif\",\"negatif\",\"negatif\",\"negatif\",\"negatif\",\"negatif\"],\"xaxis\":\"x\",\"yaxis\":\"y\",\"type\":\"histogram\"},{\"alignmentgroup\":\"True\",\"bingroup\":\"x\",\"hovertemplate\":\"Sentimen=%{x}<br>count=%{y}<extra></extra>\",\"legendgroup\":\"positif\",\"marker\":{\"color\":\"#00cc96\",\"pattern\":{\"shape\":\"\"}},\"name\":\"positif\",\"offsetgroup\":\"positif\",\"orientation\":\"v\",\"showlegend\":true,\"texttemplate\":\"%{value}\",\"x\":[\"positif\",\"positif\",\"positif\",\"positif\",\"positif\",\"positif\",\"positif\",\"positif\",\"positif\",\"positif\",\"positif\",\"positif\",\"positif\"],\"xaxis\":\"x\",\"yaxis\":\"y\",\"type\":\"histogram\"}],                        {\"template\":{\"data\":{\"bar\":[{\"error_x\":{\"color\":\"#2a3f5f\"},\"error_y\":{\"color\":\"#2a3f5f\"},\"marker\":{\"line\":{\"color\":\"#E5ECF6\",\"width\":0.5},\"pattern\":{\"fillmode\":\"overlay\",\"size\":10,\"solidity\":0.2}},\"type\":\"bar\"}],\"barpolar\":[{\"marker\":{\"line\":{\"color\":\"#E5ECF6\",\"width\":0.5},\"pattern\":{\"fillmode\":\"overlay\",\"size\":10,\"solidity\":0.2}},\"type\":\"barpolar\"}],\"carpet\":[{\"aaxis\":{\"endlinecolor\":\"#2a3f5f\",\"gridcolor\":\"white\",\"linecolor\":\"white\",\"minorgridcolor\":\"white\",\"startlinecolor\":\"#2a3f5f\"},\"baxis\":{\"endlinecolor\":\"#2a3f5f\",\"gridcolor\":\"white\",\"linecolor\":\"white\",\"minorgridcolor\":\"white\",\"startlinecolor\":\"#2a3f5f\"},\"type\":\"carpet\"}],\"choropleth\":[{\"colorbar\":{\"outlinewidth\":0,\"ticks\":\"\"},\"type\":\"choropleth\"}],\"contour\":[{\"colorbar\":{\"outlinewidth\":0,\"ticks\":\"\"},\"colorscale\":[[0.0,\"#0d0887\"],[0.1111111111111111,\"#46039f\"],[0.2222222222222222,\"#7201a8\"],[0.3333333333333333,\"#9c179e\"],[0.4444444444444444,\"#bd3786\"],[0.5555555555555556,\"#d8576b\"],[0.6666666666666666,\"#ed7953\"],[0.7777777777777778,\"#fb9f3a\"],[0.8888888888888888,\"#fdca26\"],[1.0,\"#f0f921\"]],\"type\":\"contour\"}],\"contourcarpet\":[{\"colorbar\":{\"outlinewidth\":0,\"ticks\":\"\"},\"type\":\"contourcarpet\"}],\"heatmap\":[{\"colorbar\":{\"outlinewidth\":0,\"ticks\":\"\"},\"colorscale\":[[0.0,\"#0d0887\"],[0.1111111111111111,\"#46039f\"],[0.2222222222222222,\"#7201a8\"],[0.3333333333333333,\"#9c179e\"],[0.4444444444444444,\"#bd3786\"],[0.5555555555555556,\"#d8576b\"],[0.6666666666666666,\"#ed7953\"],[0.7777777777777778,\"#fb9f3a\"],[0.8888888888888888,\"#fdca26\"],[1.0,\"#f0f921\"]],\"type\":\"heatmap\"}],\"heatmapgl\":[{\"colorbar\":{\"outlinewidth\":0,\"ticks\":\"\"},\"colorscale\":[[0.0,\"#0d0887\"],[0.1111111111111111,\"#46039f\"],[0.2222222222222222,\"#7201a8\"],[0.3333333333333333,\"#9c179e\"],[0.4444444444444444,\"#bd3786\"],[0.5555555555555556,\"#d8576b\"],[0.6666666666666666,\"#ed7953\"],[0.7777777777777778,\"#fb9f3a\"],[0.8888888888888888,\"#fdca26\"],[1.0,\"#f0f921\"]],\"type\":\"heatmapgl\"}],\"histogram\":[{\"marker\":{\"pattern\":{\"fillmode\":\"overlay\",\"size\":10,\"solidity\":0.2}},\"type\":\"histogram\"}],\"histogram2d\":[{\"colorbar\":{\"outlinewidth\":0,\"ticks\":\"\"},\"colorscale\":[[0.0,\"#0d0887\"],[0.1111111111111111,\"#46039f\"],[0.2222222222222222,\"#7201a8\"],[0.3333333333333333,\"#9c179e\"],[0.4444444444444444,\"#bd3786\"],[0.5555555555555556,\"#d8576b\"],[0.6666666666666666,\"#ed7953\"],[0.7777777777777778,\"#fb9f3a\"],[0.8888888888888888,\"#fdca26\"],[1.0,\"#f0f921\"]],\"type\":\"histogram2d\"}],\"histogram2dcontour\":[{\"colorbar\":{\"outlinewidth\":0,\"ticks\":\"\"},\"colorscale\":[[0.0,\"#0d0887\"],[0.1111111111111111,\"#46039f\"],[0.2222222222222222,\"#7201a8\"],[0.3333333333333333,\"#9c179e\"],[0.4444444444444444,\"#bd3786\"],[0.5555555555555556,\"#d8576b\"],[0.6666666666666666,\"#ed7953\"],[0.7777777777777778,\"#fb9f3a\"],[0.8888888888888888,\"#fdca26\"],[1.0,\"#f0f921\"]],\"type\":\"histogram2dcontour\"}],\"mesh3d\":[{\"colorbar\":{\"outlinewidth\":0,\"ticks\":\"\"},\"type\":\"mesh3d\"}],\"parcoords\":[{\"line\":{\"colorbar\":{\"outlinewidth\":0,\"ticks\":\"\"}},\"type\":\"parcoords\"}],\"pie\":[{\"automargin\":true,\"type\":\"pie\"}],\"scatter\":[{\"marker\":{\"colorbar\":{\"outlinewidth\":0,\"ticks\":\"\"}},\"type\":\"scatter\"}],\"scatter3d\":[{\"line\":{\"colorbar\":{\"outlinewidth\":0,\"ticks\":\"\"}},\"marker\":{\"colorbar\":{\"outlinewidth\":0,\"ticks\":\"\"}},\"type\":\"scatter3d\"}],\"scattercarpet\":[{\"marker\":{\"colorbar\":{\"outlinewidth\":0,\"ticks\":\"\"}},\"type\":\"scattercarpet\"}],\"scattergeo\":[{\"marker\":{\"colorbar\":{\"outlinewidth\":0,\"ticks\":\"\"}},\"type\":\"scattergeo\"}],\"scattergl\":[{\"marker\":{\"colorbar\":{\"outlinewidth\":0,\"ticks\":\"\"}},\"type\":\"scattergl\"}],\"scattermapbox\":[{\"marker\":{\"colorbar\":{\"outlinewidth\":0,\"ticks\":\"\"}},\"type\":\"scattermapbox\"}],\"scatterpolar\":[{\"marker\":{\"colorbar\":{\"outlinewidth\":0,\"ticks\":\"\"}},\"type\":\"scatterpolar\"}],\"scatterpolargl\":[{\"marker\":{\"colorbar\":{\"outlinewidth\":0,\"ticks\":\"\"}},\"type\":\"scatterpolargl\"}],\"scatterternary\":[{\"marker\":{\"colorbar\":{\"outlinewidth\":0,\"ticks\":\"\"}},\"type\":\"scatterternary\"}],\"surface\":[{\"colorbar\":{\"outlinewidth\":0,\"ticks\":\"\"},\"colorscale\":[[0.0,\"#0d0887\"],[0.1111111111111111,\"#46039f\"],[0.2222222222222222,\"#7201a8\"],[0.3333333333333333,\"#9c179e\"],[0.4444444444444444,\"#bd3786\"],[0.5555555555555556,\"#d8576b\"],[0.6666666666666666,\"#ed7953\"],[0.7777777777777778,\"#fb9f3a\"],[0.8888888888888888,\"#fdca26\"],[1.0,\"#f0f921\"]],\"type\":\"surface\"}],\"table\":[{\"cells\":{\"fill\":{\"color\":\"#EBF0F8\"},\"line\":{\"color\":\"white\"}},\"header\":{\"fill\":{\"color\":\"#C8D4E3\"},\"line\":{\"color\":\"white\"}},\"type\":\"table\"}]},\"layout\":{\"annotationdefaults\":{\"arrowcolor\":\"#2a3f5f\",\"arrowhead\":0,\"arrowwidth\":1},\"autotypenumbers\":\"strict\",\"coloraxis\":{\"colorbar\":{\"outlinewidth\":0,\"ticks\":\"\"}},\"colorscale\":{\"diverging\":[[0,\"#8e0152\"],[0.1,\"#c51b7d\"],[0.2,\"#de77ae\"],[0.3,\"#f1b6da\"],[0.4,\"#fde0ef\"],[0.5,\"#f7f7f7\"],[0.6,\"#e6f5d0\"],[0.7,\"#b8e186\"],[0.8,\"#7fbc41\"],[0.9,\"#4d9221\"],[1,\"#276419\"]],\"sequential\":[[0.0,\"#0d0887\"],[0.1111111111111111,\"#46039f\"],[0.2222222222222222,\"#7201a8\"],[0.3333333333333333,\"#9c179e\"],[0.4444444444444444,\"#bd3786\"],[0.5555555555555556,\"#d8576b\"],[0.6666666666666666,\"#ed7953\"],[0.7777777777777778,\"#fb9f3a\"],[0.8888888888888888,\"#fdca26\"],[1.0,\"#f0f921\"]],\"sequentialminus\":[[0.0,\"#0d0887\"],[0.1111111111111111,\"#46039f\"],[0.2222222222222222,\"#7201a8\"],[0.3333333333333333,\"#9c179e\"],[0.4444444444444444,\"#bd3786\"],[0.5555555555555556,\"#d8576b\"],[0.6666666666666666,\"#ed7953\"],[0.7777777777777778,\"#fb9f3a\"],[0.8888888888888888,\"#fdca26\"],[1.0,\"#f0f921\"]]},\"colorway\":[\"#636efa\",\"#EF553B\",\"#00cc96\",\"#ab63fa\",\"#FFA15A\",\"#19d3f3\",\"#FF6692\",\"#B6E880\",\"#FF97FF\",\"#FECB52\"],\"font\":{\"color\":\"#2a3f5f\"},\"geo\":{\"bgcolor\":\"white\",\"lakecolor\":\"white\",\"landcolor\":\"#E5ECF6\",\"showlakes\":true,\"showland\":true,\"subunitcolor\":\"white\"},\"hoverlabel\":{\"align\":\"left\"},\"hovermode\":\"closest\",\"mapbox\":{\"style\":\"light\"},\"paper_bgcolor\":\"white\",\"plot_bgcolor\":\"#E5ECF6\",\"polar\":{\"angularaxis\":{\"gridcolor\":\"white\",\"linecolor\":\"white\",\"ticks\":\"\"},\"bgcolor\":\"#E5ECF6\",\"radialaxis\":{\"gridcolor\":\"white\",\"linecolor\":\"white\",\"ticks\":\"\"}},\"scene\":{\"xaxis\":{\"backgroundcolor\":\"#E5ECF6\",\"gridcolor\":\"white\",\"gridwidth\":2,\"linecolor\":\"white\",\"showbackground\":true,\"ticks\":\"\",\"zerolinecolor\":\"white\"},\"yaxis\":{\"backgroundcolor\":\"#E5ECF6\",\"gridcolor\":\"white\",\"gridwidth\":2,\"linecolor\":\"white\",\"showbackground\":true,\"ticks\":\"\",\"zerolinecolor\":\"white\"},\"zaxis\":{\"backgroundcolor\":\"#E5ECF6\",\"gridcolor\":\"white\",\"gridwidth\":2,\"linecolor\":\"white\",\"showbackground\":true,\"ticks\":\"\",\"zerolinecolor\":\"white\"}},\"shapedefaults\":{\"line\":{\"color\":\"#2a3f5f\"}},\"ternary\":{\"aaxis\":{\"gridcolor\":\"white\",\"linecolor\":\"white\",\"ticks\":\"\"},\"baxis\":{\"gridcolor\":\"white\",\"linecolor\":\"white\",\"ticks\":\"\"},\"bgcolor\":\"#E5ECF6\",\"caxis\":{\"gridcolor\":\"white\",\"linecolor\":\"white\",\"ticks\":\"\"}},\"title\":{\"x\":0.05},\"xaxis\":{\"automargin\":true,\"gridcolor\":\"white\",\"linecolor\":\"white\",\"ticks\":\"\",\"title\":{\"standoff\":15},\"zerolinecolor\":\"white\",\"zerolinewidth\":2},\"yaxis\":{\"automargin\":true,\"gridcolor\":\"white\",\"linecolor\":\"white\",\"ticks\":\"\",\"title\":{\"standoff\":15},\"zerolinecolor\":\"white\",\"zerolinewidth\":2}}},\"xaxis\":{\"anchor\":\"y\",\"domain\":[0.0,1.0],\"title\":{\"text\":\"Sentimen\"},\"categoryorder\":\"array\",\"categoryarray\":[\"netral\",\"negatif\",\"positif\"]},\"yaxis\":{\"anchor\":\"x\",\"domain\":[0.0,1.0],\"title\":{\"text\":\"count\"}},\"legend\":{\"title\":{\"text\":\"Sentimen\"},\"tracegroupgap\":0},\"title\":{\"text\":\"Distribusi Sentimen Publik terhadap Pilpres\"},\"barmode\":\"relative\"},                        {\"responsive\": true}                    ).then(function(){\n",
       "                            \n",
       "var gd = document.getElementById('cea0219f-2475-45ad-a9ac-caf947727cdc');\n",
       "var x = new MutationObserver(function (mutations, observer) {{\n",
       "        var display = window.getComputedStyle(gd).display;\n",
       "        if (!display || display === 'none') {{\n",
       "            console.log([gd, 'removed!']);\n",
       "            Plotly.purge(gd);\n",
       "            observer.disconnect();\n",
       "        }}\n",
       "}});\n",
       "\n",
       "// Listen for the removal of the full notebook cells\n",
       "var notebookContainer = gd.closest('#notebook-container');\n",
       "if (notebookContainer) {{\n",
       "    x.observe(notebookContainer, {childList: true});\n",
       "}}\n",
       "\n",
       "// Listen for the clearing of the current output cell\n",
       "var outputEl = gd.closest('.output');\n",
       "if (outputEl) {{\n",
       "    x.observe(outputEl, {childList: true});\n",
       "}}\n",
       "\n",
       "                        })                };                });            </script>        </div>"
      ]
     },
     "metadata": {},
     "output_type": "display_data"
    }
   ],
   "source": [
    "import plotly.express as px\n",
    "\n",
    "fig = px.histogram(df, x='Predicted_Sentimen', color='Predicted_Sentimen',\n",
    "                   title='Distribusi Sentimen Publik terhadap Pilpres',\n",
    "                   labels={'Predicted_Sentimen': 'Sentimen'},\n",
    "                   text_auto=True)\n",
    "fig.show()"
   ]
  },
  {
   "cell_type": "markdown",
   "id": "a7195757",
   "metadata": {},
   "source": [
    "# membuat direct graph"
   ]
  },
  {
   "cell_type": "code",
   "execution_count": 45,
   "id": "8d102ffd",
   "metadata": {},
   "outputs": [
    {
     "data": {
      "image/png": "[encoded data removed]",
      "text/plain": [
       "<Figure size 720x576 with 1 Axes>"
      ]
     },
     "metadata": {},
     "output_type": "display_data"
    }
   ],
   "source": [
    "G = nx.DiGraph()\n",
    "\n",
    "# Menambahkan hubungan antar kata\n",
    "for i, row in df.iterrows():\n",
    "    words = row['cleaned_text'].split()\n",
    "    for j in range(len(words) - 1):\n",
    "        G.add_edge(words[j], words[j + 1], sentiment=row['Sentiment'])\n",
    "\n",
    "# Visualisasi graf\n",
    "plt.figure(figsize=(10, 8))\n",
    "pos = nx.spring_layout(G)\n",
    "edge_colors = ['green' if G[u][v]['sentiment'] == 'positif' else 'red' for u, v in G.edges]\n",
    "nx.draw(G, pos, with_labels=True, node_size=2000, node_color='lightblue', edge_color=edge_colors, font_size=10, arrows=True)\n",
    "plt.title(\"Directed Graph Analisis Sentimen Pilpres\")\n",
    "plt.show()"
   ]
  },
  {
   "cell_type": "code",
   "execution_count": null,
   "id": "49ece5ac",
   "metadata": {},
   "outputs": [],
   "source": []
  }
 ],
 "metadata": {
  "kernelspec": {
   "display_name": "Python 3 (ipykernel)",
   "language": "python",
   "name": "python3"
  },
  "language_info": {
   "codemirror_mode": {
    "name": "ipython",
    "version": 3
   },
   "file_extension": ".py",
   "mimetype": "text/x-python",
   "name": "python",
   "nbconvert_exporter": "python",
   "pygments_lexer": "ipython3",
   "version": "3.9.12"
  }
 },
 "nbformat": 4,
 "nbformat_minor": 5
}
